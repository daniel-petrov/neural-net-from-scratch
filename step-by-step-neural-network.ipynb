{
 "cells": [
  {
   "cell_type": "markdown",
   "metadata": {},
   "source": [
    "# Step by Step: Binary Classification Neural Network\n",
    "This notebook is designed to go through the theory for a Neural Network to be able to accomplish binary classification (i.e. the data falls into a group or not) so there is only one output node.\n",
    "\n",
    "Recommended: you should know the basics of Neural Networks, Calculus (differentation, chain rule), gradient descent and backpropagation - to name a few."
   ]
  },
  {
   "cell_type": "markdown",
   "metadata": {},
   "source": [
    "## Neural Network Architecture\n",
    "To begin with, we'll work with a 2-layer network with 2 input nodes, 3 hidden nodes and 1 output node:\n",
    "\n",
    "![Img Alt Text](2-layer-binary-network.png)\n",
    "\n",
    "Each layer has an extra node (which we don't count) which acts as the bias. Here are the explanations for the syntaxes I will be using:\n",
    "- $a^{(L)}_j$ represents the $j$th activation node from the top (index 0) in layer $L$.\n",
    "- $w^{(L)}_{j,k}$ represents the weight connecting $a^{(L-1)}_k$ and $a^{(L)}_j$.\n",
    "- $n_L$ represents the number of nodes in layer $L$."
   ]
  },
  {
   "cell_type": "markdown",
   "metadata": {},
   "source": [
    "## Activation Function\n",
    "For the activation function, I'll be using the [sigmoid function](https://en.wikipedia.org/wiki/Sigmoid_function):\n",
    "<br><br>\n",
    "<center>\n",
    "    <font size='4'>\n",
    "        $\n",
    "        a^{(L)}_j=\\sigma(z^{(L)}_j)\n",
    "        $\n",
    "    </font>\n",
    "</center>\n",
    "Where,\n",
    "<center>\n",
    "    <font size='4'>\n",
    "        $\\sigma(x)=$\n",
    "        <font size='5'>\n",
    "            $\\frac{1}{1+e^{-x}}$\n",
    "        </font>\n",
    "        <font size='3'>\n",
    "            and\n",
    "        </font>\n",
    "        $z^{(L)}_j=(\\sum_k^{n_{L-1}}a^{(L-1)}_kw^{(L)}_{j,k})+b^{(L)}_j$\n",
    "    </font>\n",
    "</center>\n"
   ]
  },
  {
   "cell_type": "markdown",
   "metadata": {},
   "source": [
    "## Cost Function\n",
    "For the cost function, I'll be using the [Cross-Entropy function](https://en.wikipedia.org/wiki/cross-entropy) function:\n",
    "<br><br>\n",
    "<center>\n",
    "    <font size='4'>\n",
    "        $C=-\\sum_{i}^C y_i\\log{(\\hat{y}_i)}$\n",
    "    </font>\n",
    "</center>\n",
    "\n",
    "Where,\n",
    "- $C$ is the number of classes (in this case $C=2$)\n",
    "- $y_i$ is the expected output\n",
    "- $\\hat{y}_i$ is the predicted output  \n",
    "\n",
    "For a binary classification task (i.e. $C=2$), the cross-entropy loss function becomes:\n",
    "\n",
    "<font size=\"4\"><center>$C=-\\sum_{i=1}^2 y_1\\log{(\\hat{y})}=-y_1\\log{(\\hat{y}_1)}-(1-y_1)\\log{(1-\\hat{y}_1)}$</center></font>"
   ]
  },
  {
   "cell_type": "markdown",
   "metadata": {},
   "source": [
    "## Dealing with Matrices\n",
    "The syntaxing for the weights may be confusing but is helpful when put into matrix format (this is done because it's much easier to manipulate matrices rather than every parameter individually).\n",
    "\n",
    "The values from the nodes in each layer can be represented as vectors. We add the value $1$ to the vector which acts as the bias node in that layer.  \n",
    "Let,\n",
    "<br><br>\n",
    "<center>\n",
    "    <font size='4'>\n",
    "        $\n",
    "        X=\n",
    "        \\begin{pmatrix}\n",
    "            x_0 \\\\\n",
    "            x_1\n",
    "        \\end{pmatrix}\n",
    "        $ ,  \n",
    "        $\n",
    "        W^{(1)}=\n",
    "        \\begin{pmatrix}\n",
    "            w^{(1)}_{0,0} &w^{(1)}_{0,1} \\\\\n",
    "            w^{(1)}_{1,0} &w^{(1)}_{1,1} \\\\\n",
    "            w^{(1)}_{2,0} &w^{(1)}_{2,1} \\\\\n",
    "        \\end{pmatrix}\n",
    "        $ , \n",
    "        $\n",
    "        B^{(1)}=\n",
    "        \\begin{pmatrix}\n",
    "            b^{(1)}_0 \\\\\n",
    "            b^{(1)}_1 \\\\\n",
    "            b^{(1)}_2\n",
    "        \\end{pmatrix}\n",
    "        $\n",
    "    </font>\n",
    "</center>\n",
    "<br><br>\n",
    "Then,\n",
    "<center>\n",
    "    <font size='4'>\n",
    "        $\n",
    "        W^{(1)}X+B^{(1)}=\n",
    "        \\begin{pmatrix}\n",
    "            w^{(1)}_{0,0}x_0+w^{(1)}_{0,1}x_1+b^{(1)}_0 \\\\\n",
    "            w^{(1)}_{1,0}x_0+w^{(1)}_{1,1}x_1+b^{(1)}_1 \\\\\n",
    "            w^{(1)}_{2,0}x_0+w^{(1)}_{2,1}x_1+b^{(1)}_2\n",
    "        \\end{pmatrix}\n",
    "        =\n",
    "        \\begin{pmatrix}\n",
    "            z^{(1)}_0 \\\\\n",
    "            z^{(1)}_1 \\\\\n",
    "            z^{(1)}_2\n",
    "        \\end{pmatrix}\n",
    "        =Z^{(1)}\n",
    "        $\n",
    "        <br><br>\n",
    "        $\n",
    "        A^{(1)}=\\sigma(Z^{(1)})=\n",
    "        \\begin{pmatrix}\n",
    "            \\sigma(z^{(1)}_0) \\\\\n",
    "            \\sigma(z^{(1)}_1) \\\\\n",
    "            \\sigma(z^{(1)}_2)\n",
    "        \\end{pmatrix}\n",
    "        =\n",
    "        \\begin{pmatrix}\n",
    "            a^{(1)}_0 \\\\\n",
    "            a^{(1)}_1 \\\\\n",
    "            a^{(1)}_2\n",
    "        \\end{pmatrix}\n",
    "        $\n",
    "    </font>\n",
    "</center>\n",
    "<br><br>\n",
    "Similarly, this is done for the next layer:\n",
    "<center>\n",
    "    <font size='4'>\n",
    "        $\n",
    "        A^{(1)}=\n",
    "        \\begin{pmatrix}\n",
    "            a^{(1)}_0 \\\\\n",
    "            a^{(1)}_1 \\\\\n",
    "            a^{(1)}_2\n",
    "        \\end{pmatrix}\n",
    "        $ , \n",
    "        $\n",
    "        W^{(2)}=\n",
    "        \\begin{pmatrix}\n",
    "            w^{(2)}_{0,0} &w^{(2)}_{0,1} &w^{(2)}_{0,2}\n",
    "        \\end{pmatrix}\n",
    "        $ , \n",
    "        $\n",
    "        B^{(2)}=\n",
    "        \\begin{pmatrix}\n",
    "            b^{(2)}_0\n",
    "        \\end{pmatrix}\n",
    "        $\n",
    "    </font>\n",
    "</center>\n",
    "<br><br>\n",
    "Then,\n",
    "<center>\n",
    "    <font size='4'>\n",
    "        $\n",
    "        W^{(2)}A^{(1)}+B^{(2)}=\n",
    "        \\begin{pmatrix}\n",
    "            w^{(2)}_{0,0}a^{(1)}_0 + w^{(2)}_{0,1}a^{(1)}_1 + w^{(2)}_{0,2}a^{(1)}_2 + b^{(2)}_0\n",
    "        \\end{pmatrix}\n",
    "        =\n",
    "        \\begin{pmatrix}\n",
    "            z^{(2)}_0\n",
    "        \\end{pmatrix}\n",
    "        = Z^{(2)}\n",
    "        $\n",
    "        <br><br>\n",
    "        $\n",
    "        A^{(2)}=\\sigma(Z^{(2)})=(\\sigma(z^{(2)}_0))=(a^{(2)}_0)\n",
    "        $\n",
    "    </font>\n",
    "</center>\n",
    "<br><br>\n",
    "For this example, $a^{(2)}_0$ is the predicted output, which is then passed onto the loss function."
   ]
  },
  {
   "cell_type": "markdown",
   "metadata": {},
   "source": [
    "## Backpropagation\n",
    "The goal with any model is to minimise the cost function. In this case, we need to adjust all weights and biases to minimise the cross-entropy loss function - for this, we use gradient descent:  \n",
    "<br><br>\n",
    "<center>\n",
    "    Repeat until convergence:\n",
    "    <font size='4'>\n",
    "        $\\{w_j:=w_j-\\alpha\\frac{\\delta}{\\delta w_j}J(w_0, w_1, ..., w_n)\\}$\n",
    "    </font>\n",
    "</center>\n",
    "\n",
    "\n",
    "Where $\\alpha$ is the **learning rate** and is typically quite small.\n",
    "\n",
    "By the chain rule, we know:\n",
    "<center>\n",
    "    <font size='5'>\n",
    "        $\n",
    "        \\frac{\\delta C}{\\delta w^{(2)}_{0,k}}=\\frac{\\delta C}{\\delta a^{(2)}_0}\\frac{\\delta a^{(2)}_0}{\\delta z^{(2)}_0}\\frac{\\delta z^{(2)}_0}{\\delta w^{(2)}_{0,k}}\n",
    "        $\n",
    "        <br><br>\n",
    "        $\n",
    "        \\frac{\\delta C}{\\delta b^{(2)}_j}=\\frac{\\delta C}{\\delta a^{(2)}_0}\\frac{\\delta a^{(2)}_0}{\\delta z^{(2)}_0}\\frac{\\delta z^{(2)}_0}{\\delta b^{(2)}_j}\n",
    "        $\n",
    "        <br><br>\n",
    "        $\n",
    "        \\frac{\\delta C}{\\delta w^{(1)}_{j,k}}=\\frac{\\delta C}{\\delta a^{(2)}_0}\\frac{\\delta a^{(2)}_0}{\\delta z^{(2)}_0}\\frac{\\delta z^{(2)}_0}{\\delta a^{(1)}_j}\\frac{\\delta a^{(1)}_j}{\\delta z^{(1)}_j}\\frac{\\delta z^{(1)}_j}{\\delta w^{(1)}_{j,k}}\n",
    "        $\n",
    "    </font>\n",
    "</center>\n",
    "<br><br>\n",
    "Now we must find all these derivatives (the hard part), then we can update the weights and biases. We'll do the derivatives in stages:\n",
    "\n",
    "### 1. Cost Function\n",
    "<center>\n",
    "    <font size='4'>\n",
    "        $\n",
    "        C=-y\\log{(a^{(2)}_0)}-(1-y)\\log{(1-a^{(2)}_0)}\n",
    "        $\n",
    "    </font>\n",
    "    <br><br>\n",
    "    <font = size='5'>\n",
    "        $\\frac{\\delta C}{\\delta a^{(2)}_0}$\n",
    "        <font size='4'>$=$</font>\n",
    "        $\\frac{-y}{a^{(2)}_0}$\n",
    "        <font size='4'>$+$</font>\n",
    "        $\\frac{1-y}{1-a^{(2)}_0}$\n",
    "    </font>\n",
    "</center>\n",
    "\n",
    "### 2. Activation Function\n",
    "The derivation of the sigmoid function can be found [online](https://towardsdatascience.com/derivative-of-the-sigmoid-function-536880cf918e).\n",
    "<center>\n",
    "    <font size='4'>\n",
    "        $\n",
    "        a^{(2)}_0=\\sigma(z^{(2)}_0)\n",
    "        $\n",
    "    </font>\n",
    "    <br><br>\n",
    "    <font size='5'>\n",
    "        $\\frac{\\delta a^{(2)}_0}{\\delta z^{(2)}_0}$\n",
    "        <font size='4'>\n",
    "            $=\\sigma(z^{(2)}_0)(1-\\sigma(z^{(2)}_0))$\n",
    "        </font>\n",
    "    </font>\n",
    "</center>\n",
    "\n",
    "### 3a. Derivative of $z^{(L)}_j$ w.r.t Weight\n",
    "<center>\n",
    "    <font size='4'>\n",
    "        $z^{(L)}_j=(\\sum_{k=0}^{n_{L-1}}a^{(L-1)}_kw^{(L)}_{j,k})+b^{(L)}_j$\n",
    "        <br><br>\n",
    "        <font size='5'>$\\frac{\\delta z^{(L)}_j}{\\delta w^{(L)}_{j,k}}$</font>\n",
    "        $=a^{(L-1)}_k$\n",
    "    </font>\n",
    "</center>\n",
    "\n",
    "### 3b. Derivative of $z^{(L)}_j$ w.r.t Bias\n",
    "<center>\n",
    "    <font size='4'>\n",
    "        $z^{(L)}_j=(\\sum_{k=0}^{n_{L-1}}a^{(L-1)}_kw^{(L)}_{j,k})+b^{(L)}_j$\n",
    "        <br><br>\n",
    "        <font size='5'>$\\frac{\\delta z^{(L)}_j}{\\delta b^{(L)}_j}$</font>\n",
    "        $=1$\n",
    "    </font>\n",
    "</center>\n",
    "\n",
    "### 4. Other\n",
    "<center>\n",
    "    <font size='4'>\n",
    "        $z^{(L)}_j=(\\sum_{k=0}^{n_{L-1}}a^{(L-1)}_kw^{(L)}_{j,k})+b^{(L)}_j$\n",
    "        <br><br>\n",
    "        <font size='5'>$\\frac{\\delta z^{(L)}_j}{\\delta a^{(L-1)}_k}$</font>\n",
    "        $=w^{(L)}_{j,k}$\n",
    "    </font>\n",
    "</center>"
   ]
  },
  {
   "cell_type": "markdown",
   "metadata": {},
   "source": [
    "# Example Data\n",
    "Let's make some sample data to use to walkthrough training the neural network. Remember there are only two inputs and one output."
   ]
  },
  {
   "cell_type": "code",
   "execution_count": 1,
   "metadata": {},
   "outputs": [],
   "source": [
    "import numpy as np\n",
    "import pandas as pd\n",
    "import matplotlib.pyplot as plt\n",
    "%matplotlib inline"
   ]
  },
  {
   "cell_type": "code",
   "execution_count": 50,
   "metadata": {},
   "outputs": [],
   "source": [
    "np.random.seed(42)\n",
    "\n",
    "n_group1 = 100\n",
    "n_group2 = 100\n",
    "\n",
    "# create arrays holding 2 features (x,y)\n",
    "group_1 = np.random.randn(n_group1,2) + np.array([-3, 0])\n",
    "group_2 = np.random.randn(n_group2,2) + np.array([3, 0])\n",
    "all_groups = np.vstack([group_1, group_2])"
   ]
  },
  {
   "cell_type": "code",
   "execution_count": 51,
   "metadata": {},
   "outputs": [],
   "source": [
    "df = pd.DataFrame(data=all_groups, columns=['x','y'])"
   ]
  },
  {
   "cell_type": "code",
   "execution_count": 52,
   "metadata": {},
   "outputs": [],
   "source": [
    "labels = np.array([0]*n_group1 + [1]*n_group2)\n",
    "df['group'] = labels"
   ]
  },
  {
   "cell_type": "code",
   "execution_count": 53,
   "metadata": {},
   "outputs": [
    {
     "data": {
      "text/html": [
       "<div>\n",
       "<style scoped>\n",
       "    .dataframe tbody tr th:only-of-type {\n",
       "        vertical-align: middle;\n",
       "    }\n",
       "\n",
       "    .dataframe tbody tr th {\n",
       "        vertical-align: top;\n",
       "    }\n",
       "\n",
       "    .dataframe thead th {\n",
       "        text-align: right;\n",
       "    }\n",
       "</style>\n",
       "<table border=\"1\" class=\"dataframe\">\n",
       "  <thead>\n",
       "    <tr style=\"text-align: right;\">\n",
       "      <th></th>\n",
       "      <th>x</th>\n",
       "      <th>y</th>\n",
       "      <th>group</th>\n",
       "    </tr>\n",
       "  </thead>\n",
       "  <tbody>\n",
       "    <tr>\n",
       "      <th>0</th>\n",
       "      <td>-2.503286</td>\n",
       "      <td>-0.138264</td>\n",
       "      <td>0</td>\n",
       "    </tr>\n",
       "    <tr>\n",
       "      <th>1</th>\n",
       "      <td>-2.352311</td>\n",
       "      <td>1.523030</td>\n",
       "      <td>0</td>\n",
       "    </tr>\n",
       "    <tr>\n",
       "      <th>2</th>\n",
       "      <td>-3.234153</td>\n",
       "      <td>-0.234137</td>\n",
       "      <td>0</td>\n",
       "    </tr>\n",
       "    <tr>\n",
       "      <th>3</th>\n",
       "      <td>-1.420787</td>\n",
       "      <td>0.767435</td>\n",
       "      <td>0</td>\n",
       "    </tr>\n",
       "    <tr>\n",
       "      <th>4</th>\n",
       "      <td>-3.469474</td>\n",
       "      <td>0.542560</td>\n",
       "      <td>0</td>\n",
       "    </tr>\n",
       "    <tr>\n",
       "      <th>...</th>\n",
       "      <td>...</td>\n",
       "      <td>...</td>\n",
       "      <td>...</td>\n",
       "    </tr>\n",
       "    <tr>\n",
       "      <th>195</th>\n",
       "      <td>2.101585</td>\n",
       "      <td>0.491919</td>\n",
       "      <td>1</td>\n",
       "    </tr>\n",
       "    <tr>\n",
       "      <th>196</th>\n",
       "      <td>1.679767</td>\n",
       "      <td>1.831459</td>\n",
       "      <td>1</td>\n",
       "    </tr>\n",
       "    <tr>\n",
       "      <th>197</th>\n",
       "      <td>4.179440</td>\n",
       "      <td>-0.469176</td>\n",
       "      <td>1</td>\n",
       "    </tr>\n",
       "    <tr>\n",
       "      <th>198</th>\n",
       "      <td>1.286865</td>\n",
       "      <td>1.353872</td>\n",
       "      <td>1</td>\n",
       "    </tr>\n",
       "    <tr>\n",
       "      <th>199</th>\n",
       "      <td>2.885460</td>\n",
       "      <td>1.237816</td>\n",
       "      <td>1</td>\n",
       "    </tr>\n",
       "  </tbody>\n",
       "</table>\n",
       "<p>200 rows × 3 columns</p>\n",
       "</div>"
      ],
      "text/plain": [
       "            x         y  group\n",
       "0   -2.503286 -0.138264      0\n",
       "1   -2.352311  1.523030      0\n",
       "2   -3.234153 -0.234137      0\n",
       "3   -1.420787  0.767435      0\n",
       "4   -3.469474  0.542560      0\n",
       "..        ...       ...    ...\n",
       "195  2.101585  0.491919      1\n",
       "196  1.679767  1.831459      1\n",
       "197  4.179440 -0.469176      1\n",
       "198  1.286865  1.353872      1\n",
       "199  2.885460  1.237816      1\n",
       "\n",
       "[200 rows x 3 columns]"
      ]
     },
     "execution_count": 53,
     "metadata": {},
     "output_type": "execute_result"
    }
   ],
   "source": [
    "df"
   ]
  },
  {
   "cell_type": "code",
   "execution_count": 54,
   "metadata": {},
   "outputs": [
    {
     "data": {
      "text/plain": [
       "(Text(0.5, 0, 'x'), Text(0, 0.5, 'y'), Text(0.5, 1.0, 'Data'))"
      ]
     },
     "execution_count": 54,
     "metadata": {},
     "output_type": "execute_result"
    },
    {
     "data": {
      "image/png": "[encoded data removed]",
      "text/plain": [
       "<Figure size 864x576 with 1 Axes>"
      ]
     },
     "metadata": {
      "needs_background": "light"
     },
     "output_type": "display_data"
    }
   ],
   "source": [
    "plt.figure(figsize=(12,8))\n",
    "plt.scatter(all_groups[:,0], all_groups[:,1], c=labels, cmap='plasma', s=100, alpha=0.5)\n",
    "plt.xlabel('x'), plt.ylabel('y'), plt.title('Data')"
   ]
  },
  {
   "cell_type": "markdown",
   "metadata": {},
   "source": [
    "Now we've made a bunch of datapoints as a training set. Each datapoint has two features: `x` and `y` (or you can think of these as `x0` and `x1`). Each datapoint in the training set is assigned to one of two groups: blue or yellow (or group_1 and group_2)."
   ]
  },
  {
   "cell_type": "markdown",
   "metadata": {},
   "source": [
    "## Forward Propagation\n",
    "To initalise all the weights and biases we'll use the [standard Normal distribution](https://en.wikipedia.org/wiki/Normal_distribution#Standard_normal_distribution) so that each weight is a small enough random number. We don't initalise the values to be 0 because then the learning would break."
   ]
  },
  {
   "cell_type": "code",
   "execution_count": 251,
   "metadata": {},
   "outputs": [],
   "source": [
    "# define layers/nodes architecture\n",
    "layers = [2,3,1]\n",
    "params = {}  # to store all parameters\n",
    "learning_rate = 0.001\n",
    "\n",
    "# initialise matrices of weights and biases for layer 1\n",
    "params['W1'] = np.random.randn(layers[0], layers[1]) #2x3\n",
    "params['B1'] = np.random.randn(layers[1]) #1x3\n",
    "\n",
    "# initialise matrices of weights and bias for layer 2\n",
    "params['W2'] = np.random.randn(layers[1], layers[2]) #3x1\n",
    "params['B2'] = np.random.randn(layers[2]) #1x1\n",
    "\n",
    "# get training example\n",
    "X = all_groups #nx2  (n=200)"
   ]
  },
  {
   "cell_type": "code",
   "execution_count": 252,
   "metadata": {},
   "outputs": [],
   "source": [
    "def sigmoid(Z):\n",
    "    return 1/(1+np.exp(-Z))"
   ]
  },
  {
   "cell_type": "code",
   "execution_count": 253,
   "metadata": {},
   "outputs": [],
   "source": [
    "def forward_propagate():\n",
    "    # get Z1\n",
    "    params['Z1'] = X.dot(params['W1'])+params['B1']\n",
    "\n",
    "    # get A1 by applying the sigmoid function to each element in Z1\n",
    "    params['A1'] = sigmoid(params['Z1'])\n",
    "\n",
    "    # get Z2\n",
    "    params['Z2'] = params['A1'].dot(params['W2'])+params['B2']\n",
    "\n",
    "    # get A2 (predicted output)\n",
    "    params['A2'] = sigmoid(params['Z2'])"
   ]
  },
  {
   "cell_type": "code",
   "execution_count": 254,
   "metadata": {},
   "outputs": [],
   "source": [
    "forward_propagate()"
   ]
  },
  {
   "cell_type": "markdown",
   "metadata": {},
   "source": [
    "## Backpropagation\n",
    "Now we've gone through the network once, we now need to evaluate the loss/cost, and then adjust each parameter such that the cost is minimised."
   ]
  },
  {
   "cell_type": "code",
   "execution_count": 255,
   "metadata": {},
   "outputs": [],
   "source": [
    "def eta(x):\n",
    "    ETA = 0.0000000001\n",
    "    return np.maximum(x, ETA)\n",
    "\n",
    "def entropy_loss(y, yhat):\n",
    "    nsample = len(y)\n",
    "    y_inv = 1.0 - y\n",
    "    yhat_inv = 1.0 - yhat\n",
    "    \n",
    "    # clips value to avoid NaNs in log\n",
    "    yhat = eta(yhat)\n",
    "    yhat_inv = eta(yhat_inv)\n",
    "\n",
    "    loss = -1/nsample * (np.sum(\n",
    "        np.multiply(y, np.log(yhat)) + \n",
    "        np.multiply(y_inv, np.log(yhat_inv))\n",
    "    ))\n",
    "    return loss\n",
    "\n",
    "def dSigmoid(X):\n",
    "    return sigmoid(X) * (1-sigmoid(X))"
   ]
  },
  {
   "cell_type": "code",
   "execution_count": 256,
   "metadata": {},
   "outputs": [
    {
     "data": {
      "text/plain": [
       "241.15078261740553"
      ]
     },
     "execution_count": 256,
     "metadata": {},
     "output_type": "execute_result"
    }
   ],
   "source": [
    "entropy_loss(labels, params['A2'])"
   ]
  },
  {
   "cell_type": "code",
   "execution_count": 257,
   "metadata": {},
   "outputs": [],
   "source": [
    "def backpropagate():\n",
    "    y = labels\n",
    "    yhat = params['A2']\n",
    "\n",
    "    # now find all derivatives\n",
    "    y_inv = 1 - y\n",
    "    yhat_inv = 1 - yhat\n",
    "\n",
    "    dl_wrt_yhat = np.divide(y_inv, eta(yhat_inv)) - np.divide(y, eta(yhat))\n",
    "    dl_wrt_sig = yhat * (yhat_inv)\n",
    "    dl_wrt_z2 = dl_wrt_yhat * dl_wrt_sig\n",
    "\n",
    "    dl_wrt_A1 = dl_wrt_z2.dot(params['W2'].T)\n",
    "    dl_wrt_w2 = params['A1'].T.dot(dl_wrt_z2)\n",
    "    dl_wrt_b2 = np.sum(dl_wrt_z2, axis=0, keepdims=True)\n",
    "\n",
    "    dl_wrt_z1 = dl_wrt_A1 * dSigmoid(self.params['Z1'])\n",
    "    dl_wrt_w1 = X.T.dot(dl_wrt_z1)\n",
    "    dl_wrt_b1 = np.sum(dl_wrt_z1, axis=0, keepdims=True)\n",
    "\n",
    "    # adjust parameters\n",
    "    self.params['W1'] = self.params['W1'] - learning_rate * dl_wrt_w1\n",
    "    self.params['W2'] = self.params['W2'] - learning_rate * dl_wrt_w2\n",
    "    self.params['B1'] = self.params['B1'] - learning_rate * dl_wrt_b1\n",
    "    self.params['B2'] = self.params['B2'] - learning_rate * dl_wrt_b2"
   ]
  },
  {
   "cell_type": "code",
   "execution_count": 317,
   "metadata": {},
   "outputs": [],
   "source": [
    "y = labels\n",
    "params['A2'] = params['A2'].flatten()\n",
    "\n",
    "dC_wrt_A2 = np.divide(1.0-y, 1.0-params['A2']) - np.divide(y, params['A2'])\n",
    "dA2_wrt_Z2 = dSigmoid(params['Z2'])\n"
   ]
  },
  {
   "cell_type": "code",
   "execution_count": null,
   "metadata": {},
   "outputs": [],
   "source": []
  },
  {
   "cell_type": "code",
   "execution_count": null,
   "metadata": {},
   "outputs": [],
   "source": []
  },
  {
   "cell_type": "code",
   "execution_count": 258,
   "metadata": {},
   "outputs": [],
   "source": [
    "forward_propagate()"
   ]
  },
  {
   "cell_type": "code",
   "execution_count": 259,
   "metadata": {},
   "outputs": [
    {
     "data": {
      "text/plain": [
       "241.15078261740553"
      ]
     },
     "execution_count": 259,
     "metadata": {},
     "output_type": "execute_result"
    }
   ],
   "source": [
    "entropy_loss(labels, params['A2'])"
   ]
  },
  {
   "cell_type": "code",
   "execution_count": null,
   "metadata": {},
   "outputs": [],
   "source": []
  }
 ],
 "metadata": {
  "kernelspec": {
   "display_name": "Python 3",
   "language": "python",
   "name": "python3"
  },
  "language_info": {
   "codemirror_mode": {
    "name": "ipython",
    "version": 3
   },
   "file_extension": ".py",
   "mimetype": "text/x-python",
   "name": "python",
   "nbconvert_exporter": "python",
   "pygments_lexer": "ipython3",
   "version": "3.7.7"
  }
 },
 "nbformat": 4,
 "nbformat_minor": 4
}
